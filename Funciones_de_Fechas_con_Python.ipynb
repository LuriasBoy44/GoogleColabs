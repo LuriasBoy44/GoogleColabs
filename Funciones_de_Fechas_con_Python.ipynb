{
  "nbformat": 4,
  "nbformat_minor": 0,
  "metadata": {
    "colab": {
      "name": "Funciones de Fechas con Python.ipynb",
      "provenance": [],
      "collapsed_sections": [],
      "authorship_tag": "ABX9TyNiEljI1ohpr1CPVhE3hM0u",
      "include_colab_link": true
    },
    "kernelspec": {
      "name": "python3",
      "display_name": "Python 3"
    },
    "language_info": {
      "name": "python"
    }
  },
  "cells": [
    {
      "cell_type": "markdown",
      "metadata": {
        "id": "view-in-github",
        "colab_type": "text"
      },
      "source": [
        "<a href=\"https://colab.research.google.com/github/LuriasBoy44/GoogleColabs/blob/master/Funciones_de_Fechas_con_Python.ipynb\" target=\"_parent\"><img src=\"https://colab.research.google.com/assets/colab-badge.svg\" alt=\"Open In Colab\"/></a>"
      ]
    },
    {
      "cell_type": "markdown",
      "source": [
        "### Fuciones Python para fechas"
      ],
      "metadata": {
        "id": "Aza70xGw_XaA"
      }
    },
    {
      "cell_type": "code",
      "source": [
        "import datetime\n",
        "\n",
        "ahora = datetime.datetime.now()\n",
        "print('Fecha y hora actuales:', ahora)\n",
        "\n",
        "hoy = datetime.date.today()\n",
        "print('Hoy:', hoy)\n",
        "\n",
        "print()\n",
        "\n",
        "print('Año:', hoy.strftime('%Y'))\n",
        "print('Nombre del mes:', hoy.strftime('%B'))\n",
        "print('Número de la semana en el año:', hoy.strftime('%W'))\n",
        "print('Número del día de la semana:', hoy.strftime('%w'))\n",
        "print('Número del día del año:', hoy.strftime('%j'))\n",
        "print('Número del día en el mes:', hoy.strftime('%d'))\n",
        "print('Nombre del día de la semana:', hoy.strftime('%A'))"
      ],
      "metadata": {
        "colab": {
          "base_uri": "https://localhost:8080/"
        },
        "id": "toSEkf7e_cHf",
        "outputId": "d633d0de-bab2-4696-f4a3-b5601051da76"
      },
      "execution_count": null,
      "outputs": [
        {
          "output_type": "stream",
          "name": "stdout",
          "text": [
            "Fecha y hora actuales: 2021-12-20 13:17:54.607225\n",
            "Hoy: 2021-12-20\n",
            "\n",
            "Año: 2021\n",
            "Nombre del mes: December\n",
            "Número de la semana en el año: 51\n",
            "Número del día de la semana: 1\n",
            "Número del día del año: 354\n",
            "Número del día en el mes: 20\n",
            "Nombre del día de la semana: Monday\n"
          ]
        }
      ]
    },
    {
      "cell_type": "markdown",
      "source": [
        "### Año bisiesto"
      ],
      "metadata": {
        "id": "TL3zWEV-AGBv"
      }
    },
    {
      "cell_type": "code",
      "source": [
        "def es_bisiesto(agnio):\n",
        "    if agnio % 400 == 0:\n",
        "        return True\n",
        "    elif agnio % 100 == 0:\n",
        "        return False\n",
        "    elif agnio % 4 == 0:\n",
        "        return True\n",
        "    else:\n",
        "        return False\n",
        "\n",
        "agnio = 2020\n",
        "print('¿El año %i es bisiesto?: %s' % (agnio, es_bisiesto(agnio)))\n",
        "agnio = 2013\n",
        "print('¿El año %i es bisiesto?: %s' % (agnio, es_bisiesto(agnio)))\n",
        "agnio = 2000\n",
        "print('¿El año %i es bisiesto?: %s' % (agnio, es_bisiesto(agnio)))"
      ],
      "metadata": {
        "colab": {
          "base_uri": "https://localhost:8080/"
        },
        "id": "rS7QBoAiAIXJ",
        "outputId": "f586fe93-e687-47e0-f18d-7bc49e12a97b"
      },
      "execution_count": null,
      "outputs": [
        {
          "output_type": "stream",
          "name": "stdout",
          "text": [
            "¿El año 2020 es bisiesto?: True\n",
            "¿El año 2013 es bisiesto?: False\n",
            "¿El año 2000 es bisiesto?: True\n"
          ]
        }
      ]
    },
    {
      "cell_type": "markdown",
      "source": [
        "### Str a fecha"
      ],
      "metadata": {
        "id": "dSgRsqSwAXZX"
      }
    },
    {
      "cell_type": "code",
      "source": [
        "\n",
        "from datetime import datetime\n",
        "\n",
        "def convertir_cadena_a_fecha(cadena):\n",
        "    fecha = datetime.strptime(cadena, '%b %d %Y %I:%M:%S')\n",
        "\n",
        "    return fecha\n",
        "\n",
        "cadena_fecha = 'Feb 22 2020 10:05:17'\n",
        "fecha = convertir_cadena_a_fecha(cadena_fecha)\n",
        "\n",
        "print(type(fecha))\n",
        "print(fecha)"
      ],
      "metadata": {
        "colab": {
          "base_uri": "https://localhost:8080/"
        },
        "id": "PgwZbHldAZan",
        "outputId": "b4c71b79-7d78-492a-d8bd-e82ebd3149b8"
      },
      "execution_count": null,
      "outputs": [
        {
          "output_type": "stream",
          "name": "stdout",
          "text": [
            "<class 'datetime.datetime'>\n",
            "2020-02-22 10:05:17\n"
          ]
        }
      ]
    },
    {
      "cell_type": "markdown",
      "source": [
        "# Hora actual"
      ],
      "metadata": {
        "id": "08PRBZ6fAlcW"
      }
    },
    {
      "cell_type": "code",
      "source": [
        "from datetime import datetime\n",
        "\n",
        "hora = datetime.now().time()\n",
        "\n",
        "print(hora)\n",
        "print(type(hora))"
      ],
      "metadata": {
        "colab": {
          "base_uri": "https://localhost:8080/"
        },
        "id": "mDzjBxOYAor4",
        "outputId": "0f35508e-98dd-4f02-8ced-58042a6fab71"
      },
      "execution_count": null,
      "outputs": [
        {
          "output_type": "stream",
          "name": "stdout",
          "text": [
            "13:23:10.667666\n",
            "<class 'datetime.time'>\n"
          ]
        }
      ]
    },
    {
      "cell_type": "markdown",
      "source": [
        "# Arismetica con fechas"
      ],
      "metadata": {
        "id": "dA-D7ljWAw2w"
      }
    },
    {
      "cell_type": "code",
      "source": [
        "\n",
        "from datetime import date, timedelta\n",
        "\n",
        "fecha_actual = date.today()\n",
        "resultado = fecha_actual - timedelta(10)\n",
        "\n",
        "print('Fecha actual:', fecha_actual)\n",
        "print('10 días antes de la fecha actual:', resultado)"
      ],
      "metadata": {
        "colab": {
          "base_uri": "https://localhost:8080/"
        },
        "id": "AeBFQq-vA1oo",
        "outputId": "a97c47e3-7265-466b-be48-0466a512a6a7"
      },
      "execution_count": null,
      "outputs": [
        {
          "output_type": "stream",
          "name": "stdout",
          "text": [
            "Fecha actual: 2021-12-20\n",
            "10 días antes de la fecha actual: 2021-12-10\n"
          ]
        }
      ]
    },
    {
      "cell_type": "markdown",
      "source": [
        "# Convertir segundos del tiempo Unix a un objeto fecha con fromtimestamp()"
      ],
      "metadata": {
        "id": "SyeErMnbBFC3"
      }
    },
    {
      "cell_type": "code",
      "source": [
        "import datetime\n",
        "\n",
        "segundos_unix = 1435554000\n",
        "\n",
        "fecha = datetime.datetime.fromtimestamp(segundos_unix)\n",
        "\n",
        "print(type(fecha))\n",
        "print(fecha)"
      ],
      "metadata": {
        "colab": {
          "base_uri": "https://localhost:8080/"
        },
        "id": "hP1nrSYgBGlu",
        "outputId": "14b8cda7-c17c-4cb6-d19d-0d3cb789a782"
      },
      "execution_count": null,
      "outputs": [
        {
          "output_type": "stream",
          "name": "stdout",
          "text": [
            "<class 'datetime.datetime'>\n",
            "2015-06-29 05:00:00\n"
          ]
        }
      ]
    },
    {
      "cell_type": "markdown",
      "source": [
        "# Ayer, hoy y mañana"
      ],
      "metadata": {
        "id": "5Pu0QlG0BMjo"
      }
    },
    {
      "cell_type": "code",
      "source": [
        "import datetime\n",
        "\n",
        "hoy = datetime.date.today()\n",
        "ayer = hoy - datetime.timedelta(1)\n",
        "manana = hoy + datetime.timedelta(1)\n",
        "\n",
        "print('Ayer:', ayer)\n",
        "print('Hoy:', hoy)\n",
        "print('Mañana:', manana)"
      ],
      "metadata": {
        "colab": {
          "base_uri": "https://localhost:8080/"
        },
        "id": "3Y1ZnpvuBUag",
        "outputId": "be1bbabb-0b1e-47bc-e117-7dfdc242cf30"
      },
      "execution_count": null,
      "outputs": [
        {
          "output_type": "stream",
          "name": "stdout",
          "text": [
            "Ayer: 2021-12-19\n",
            "Hoy: 2021-12-20\n",
            "Mañana: 2021-12-21\n"
          ]
        }
      ]
    },
    {
      "cell_type": "markdown",
      "source": [
        "# Convertir un objeto date a un objeto datetime con combine()"
      ],
      "metadata": {
        "id": "aOCMYQcRBdko"
      }
    },
    {
      "cell_type": "code",
      "source": [
        "from datetime import date, datetime\n",
        "\n",
        "hoy = date.today()\n",
        "\n",
        "print(type(hoy))\n",
        "print(hoy)\n",
        "\n",
        "print()\n",
        "\n",
        "dt = datetime.combine(hoy, datetime.min.time())\n",
        "\n",
        "print(type(dt))\n",
        "print(dt)"
      ],
      "metadata": {
        "colab": {
          "base_uri": "https://localhost:8080/"
        },
        "id": "sCik1OLiBfA3",
        "outputId": "0c68a389-0e14-4b7f-bf9b-04b947263984"
      },
      "execution_count": null,
      "outputs": [
        {
          "output_type": "stream",
          "name": "stdout",
          "text": [
            "<class 'datetime.date'>\n",
            "2021-12-20\n",
            "\n",
            "<class 'datetime.datetime'>\n",
            "2021-12-20 00:00:00\n"
          ]
        }
      ]
    },
    {
      "cell_type": "markdown",
      "source": [
        "# Generar diez fechas a partir de la fecha actual"
      ],
      "metadata": {
        "id": "VFMcfCfyBmXg"
      }
    },
    {
      "cell_type": "code",
      "source": [
        "import datetime\n",
        "\n",
        "hoy = datetime.datetime.today()\n",
        "\n",
        "print('Fecha actual:', hoy)\n",
        "\n",
        "fechas = [hoy + datetime.timedelta(dia) for dia in range(1, 11)]\n",
        "\n",
        "for f in fechas:\n",
        "    print(f)"
      ],
      "metadata": {
        "colab": {
          "base_uri": "https://localhost:8080/"
        },
        "id": "mZirUdrvBrDx",
        "outputId": "6281303d-82c2-4862-d15d-b5f0194b12ac"
      },
      "execution_count": null,
      "outputs": [
        {
          "output_type": "stream",
          "name": "stdout",
          "text": [
            "Fecha actual: 2021-12-20 13:27:41.914378\n",
            "2021-12-21 13:27:41.914378\n",
            "2021-12-22 13:27:41.914378\n",
            "2021-12-23 13:27:41.914378\n",
            "2021-12-24 13:27:41.914378\n",
            "2021-12-25 13:27:41.914378\n",
            "2021-12-26 13:27:41.914378\n",
            "2021-12-27 13:27:41.914378\n",
            "2021-12-28 13:27:41.914378\n",
            "2021-12-29 13:27:41.914378\n",
            "2021-12-30 13:27:41.914378\n"
          ]
        }
      ]
    },
    {
      "cell_type": "markdown",
      "source": [
        "# Sumar 5 segundos a la hora actual por medio de timedelta."
      ],
      "metadata": {
        "id": "90Q2QP8BB0_o"
      }
    },
    {
      "cell_type": "code",
      "source": [
        "import datetime\n",
        "\n",
        "hora_actual = datetime.datetime.now()\n",
        "print('Hora actual:', hora_actual)\n",
        "\n",
        "resultado = hora_actual + datetime.timedelta(seconds=5)\n",
        "\n",
        "print('Hora más 5 segundos:', resultado)"
      ],
      "metadata": {
        "colab": {
          "base_uri": "https://localhost:8080/"
        },
        "id": "UCVz7iGeB2c4",
        "outputId": "fa75e170-cfe6-4a4f-c955-470b01ccc5a7"
      },
      "execution_count": null,
      "outputs": [
        {
          "output_type": "stream",
          "name": "stdout",
          "text": [
            "Hora actual: 2021-12-20 13:28:30.385202\n",
            "Hora más 5 segundos: 2021-12-20 13:28:35.385202\n"
          ]
        }
      ]
    },
    {
      "cell_type": "markdown",
      "source": [
        "Obtener el número del día del año en curso."
      ],
      "metadata": {
        "id": "VG2sNZ2kCFui"
      }
    },
    {
      "cell_type": "code",
      "source": [
        "import datetime\n",
        "\n",
        "hoy = datetime.datetime.now()\n",
        "\n",
        "numero_dia = (hoy - datetime.datetime(hoy.year, 1, 1)).days + 1\n",
        "\n",
        "print('Número día del año:', numero_dia)"
      ],
      "metadata": {
        "colab": {
          "base_uri": "https://localhost:8080/"
        },
        "id": "Rk_vb4qfCGc2",
        "outputId": "2ebddd45-4fc1-403a-b2b0-c111ae65954e"
      },
      "execution_count": null,
      "outputs": [
        {
          "output_type": "stream",
          "name": "stdout",
          "text": [
            "Número día del año: 354\n"
          ]
        }
      ]
    },
    {
      "cell_type": "markdown",
      "source": [
        "Obtener la cantidad de milisegundos transcurridos desde el inicio del tiempo Unix."
      ],
      "metadata": {
        "id": "6mmez0bLCVEO"
      }
    },
    {
      "cell_type": "code",
      "source": [
        "import time\n",
        "\n",
        "segundos = time.time()\n",
        "milisegundos = int(round(segundos * 1000))\n",
        "\n",
        "print('Milisegundos desde el inicio del tiempo Unix: %i' % milisegundos)"
      ],
      "metadata": {
        "colab": {
          "base_uri": "https://localhost:8080/"
        },
        "id": "pKhNu7S4CVif",
        "outputId": "12ca3789-c859-481e-9d35-0e27c4c29185"
      },
      "execution_count": null,
      "outputs": [
        {
          "output_type": "stream",
          "name": "stdout",
          "text": [
            "Milisegundos desde el inicio del tiempo Unix: 1640007040519\n"
          ]
        }
      ]
    },
    {
      "cell_type": "markdown",
      "source": [
        "Obtener el número de la semana actual del año en curso."
      ],
      "metadata": {
        "id": "FPXFn4hCCh24"
      }
    },
    {
      "cell_type": "code",
      "source": [
        "\n",
        "import datetime\n",
        "\n",
        "fecha_actual = datetime.date.today()\n",
        "print('Fecha actual:', fecha_actual)\n",
        "\n",
        "numero_semana = fecha_actual.isocalendar()\n",
        "\n",
        "print('Número de la semana del año en curso:', numero_semana[1])"
      ],
      "metadata": {
        "colab": {
          "base_uri": "https://localhost:8080/"
        },
        "id": "9CfeBDs4CihH",
        "outputId": "b2854751-4f6f-41e2-a76e-50e3a8f5af26"
      },
      "execution_count": null,
      "outputs": [
        {
          "output_type": "stream",
          "name": "stdout",
          "text": [
            "Fecha actual: 2021-12-20\n",
            "Número de la semana del año en curso: 51\n"
          ]
        }
      ]
    },
    {
      "cell_type": "markdown",
      "source": [
        "Obtener la fecha del primer lunes del número de una semana específica."
      ],
      "metadata": {
        "id": "bBQkyag5C2kS"
      }
    },
    {
      "cell_type": "code",
      "source": [
        "import time\n",
        "\n",
        "numero_semana = 8\n",
        "fecha = time.asctime(time.strptime('2020 8 1', '%Y %W %w'))\n",
        "\n",
        "print('Fecha primer lunes semana número 8:', fecha)\n",
        "print(type(fecha))"
      ],
      "metadata": {
        "colab": {
          "base_uri": "https://localhost:8080/"
        },
        "id": "wfeVK3KkC3EH",
        "outputId": "0557aea5-9512-4ba2-835b-0c7adea17016"
      },
      "execution_count": null,
      "outputs": [
        {
          "output_type": "stream",
          "name": "stdout",
          "text": [
            "Fecha primer lunes semana número 8: Mon Feb 24 00:00:00 2020\n",
            "<class 'str'>\n"
          ]
        }
      ]
    },
    {
      "cell_type": "markdown",
      "source": [
        "Obtener todas las fechas de los domingos de un año particular."
      ],
      "metadata": {
        "id": "dgk4MadUC-EB"
      }
    },
    {
      "cell_type": "code",
      "source": [
        "from datetime import date, timedelta\n",
        "\n",
        "def generar_fecha_domingo(agnio):\n",
        "    fecha = date(agnio, 1, 1)\n",
        "    fecha += timedelta(days=6-fecha.weekday())\n",
        "\n",
        "    while fecha.year == agnio:\n",
        "        yield fecha\n",
        "        fecha += timedelta(days=7)\n",
        "\n",
        "\n",
        "for f in generar_fecha_domingo(2020):\n",
        "    print(f)"
      ],
      "metadata": {
        "colab": {
          "base_uri": "https://localhost:8080/"
        },
        "id": "XvAABqknC_pg",
        "outputId": "70091940-b3ed-430c-8d57-553eb1aeb6bd"
      },
      "execution_count": null,
      "outputs": [
        {
          "output_type": "stream",
          "name": "stdout",
          "text": [
            "2020-01-05\n",
            "2020-01-12\n",
            "2020-01-19\n",
            "2020-01-26\n",
            "2020-02-02\n",
            "2020-02-09\n",
            "2020-02-16\n",
            "2020-02-23\n",
            "2020-03-01\n",
            "2020-03-08\n",
            "2020-03-15\n",
            "2020-03-22\n",
            "2020-03-29\n",
            "2020-04-05\n",
            "2020-04-12\n",
            "2020-04-19\n",
            "2020-04-26\n",
            "2020-05-03\n",
            "2020-05-10\n",
            "2020-05-17\n",
            "2020-05-24\n",
            "2020-05-31\n",
            "2020-06-07\n",
            "2020-06-14\n",
            "2020-06-21\n",
            "2020-06-28\n",
            "2020-07-05\n",
            "2020-07-12\n",
            "2020-07-19\n",
            "2020-07-26\n",
            "2020-08-02\n",
            "2020-08-09\n",
            "2020-08-16\n",
            "2020-08-23\n",
            "2020-08-30\n",
            "2020-09-06\n",
            "2020-09-13\n",
            "2020-09-20\n",
            "2020-09-27\n",
            "2020-10-04\n",
            "2020-10-11\n",
            "2020-10-18\n",
            "2020-10-25\n",
            "2020-11-01\n",
            "2020-11-08\n",
            "2020-11-15\n",
            "2020-11-22\n",
            "2020-11-29\n",
            "2020-12-06\n",
            "2020-12-13\n",
            "2020-12-20\n",
            "2020-12-27\n"
          ]
        }
      ]
    },
    {
      "cell_type": "markdown",
      "source": [
        "Crear una función para sumar n cantidad de años a una fecha."
      ],
      "metadata": {
        "id": "SFB_S-CUDV8D"
      }
    },
    {
      "cell_type": "code",
      "source": [
        "\n",
        "import datetime\n",
        "from datetime import date\n",
        "\n",
        "def sumar_agnios(fecha, agnios):\n",
        "    try:\n",
        "        return fecha.replace(year = fecha.year + agnios)\n",
        "    except ValueError:\n",
        "        return fecha + (date(fecha.year + agnios, 1, 1) - date(fecha.year, 1, 1))\n",
        "\n",
        "fecha = date(2020, 1, 13)\n",
        "print(sumar_agnios(fecha, 2))\n",
        "print(sumar_agnios(fecha, -2))\n",
        "\n",
        "print()\n",
        "\n",
        "fecha = date(2020, 2, 29)\n",
        "print(sumar_agnios(fecha, 1))\n",
        "print(sumar_agnios(fecha, 4))"
      ],
      "metadata": {
        "colab": {
          "base_uri": "https://localhost:8080/"
        },
        "id": "DgrGhPpRDWkQ",
        "outputId": "f5e4b192-386f-4225-cd23-c0c3c4146eab"
      },
      "execution_count": null,
      "outputs": [
        {
          "output_type": "stream",
          "name": "stdout",
          "text": [
            "2022-01-13\n",
            "2018-01-13\n",
            "\n",
            "2021-03-01\n",
            "2024-02-29\n"
          ]
        }
      ]
    },
    {
      "cell_type": "markdown",
      "source": [
        " Remover los microsegundos de un objeto datetime usando replace()."
      ],
      "metadata": {
        "id": "JV53ffqvDfhq"
      }
    },
    {
      "cell_type": "code",
      "source": [
        "import datetime\n",
        "\n",
        "hoy = datetime.datetime.today()\n",
        "print('Fecha actual:', hoy)\n",
        "\n",
        "hoy = hoy.replace(microsecond=0)\n",
        "print('Fecha actual (sin microsegundos):', hoy)"
      ],
      "metadata": {
        "colab": {
          "base_uri": "https://localhost:8080/"
        },
        "id": "inwYAcYMDgKJ",
        "outputId": "1e7cfa4e-2942-49b1-877c-664f1131ac1e"
      },
      "execution_count": null,
      "outputs": [
        {
          "output_type": "stream",
          "name": "stdout",
          "text": [
            "Fecha actual: 2021-12-20 13:35:51.454253\n",
            "Fecha actual (sin microsegundos): 2021-12-20 13:35:51\n"
          ]
        }
      ]
    },
    {
      "cell_type": "markdown",
      "source": [
        "Diferencia en días entre dos fechas (objetos date)."
      ],
      "metadata": {
        "id": "010aJVU5ED8m"
      }
    },
    {
      "cell_type": "code",
      "source": [
        "from datetime import date\n",
        "\n",
        "fecha_1 = date(2010, 1, 1)\n",
        "fecha_2 = date(2020, 1, 1)\n",
        "\n",
        "diferencia = fecha_2 - fecha_1\n",
        "\n",
        "print(f'Diferencia total en días: {diferencia.days}')"
      ],
      "metadata": {
        "colab": {
          "base_uri": "https://localhost:8080/"
        },
        "id": "uCjY7-rBEE25",
        "outputId": "c6a180cf-1c8c-4a5a-eb33-584b69ae0f3a"
      },
      "execution_count": null,
      "outputs": [
        {
          "output_type": "stream",
          "name": "stdout",
          "text": [
            "Diferencia total en días: 3652\n"
          ]
        }
      ]
    },
    {
      "cell_type": "markdown",
      "source": [
        "Crear una función para obtener la fecha del último martes."
      ],
      "metadata": {
        "id": "EsITf50IEMA4"
      }
    },
    {
      "cell_type": "code",
      "source": [
        "from datetime import date, timedelta\n",
        "\n",
        "def fecha_ultimo_martes():\n",
        "    hoy = date.today()\n",
        "    dias = (hoy.weekday() - 1) % 7\n",
        "    ultimo_martes = hoy - timedelta(days=dias)\n",
        "    return ultimo_martes\n",
        "\n",
        "resultado = fecha_ultimo_martes()\n",
        "print('Fecha último martes:', resultado)"
      ],
      "metadata": {
        "colab": {
          "base_uri": "https://localhost:8080/"
        },
        "id": "HnHnrYZ2EMzF",
        "outputId": "54dba6ee-3ff9-4dfa-cded-b5b0f4af9d1b"
      },
      "execution_count": null,
      "outputs": [
        {
          "output_type": "stream",
          "name": "stdout",
          "text": [
            "Fecha último martes: 2021-12-14\n"
          ]
        }
      ]
    },
    {
      "cell_type": "markdown",
      "source": [
        "Crear una función para determinar si una fecha es el tercer miércoles del mes."
      ],
      "metadata": {
        "id": "rsLm7SODE48o"
      }
    },
    {
      "cell_type": "code",
      "source": [
        "import datetime\n",
        "\n",
        "def es_tercer_miercoles(cadena):\n",
        "    fecha = datetime.datetime.strptime(cadena, '%Y %m %d')\n",
        "    return fecha.weekday() == 2 and 14 < fecha.day <= 22\n",
        "\n",
        "print(es_tercer_miercoles('2020 02 17'))\n",
        "print(es_tercer_miercoles('2020 02 19'))\n",
        "print(es_tercer_miercoles('2020 01 22'))"
      ],
      "metadata": {
        "colab": {
          "base_uri": "https://localhost:8080/"
        },
        "id": "CJy6EcbSE-A7",
        "outputId": "1aecbe14-5b99-412b-b260-3b74f8e4095d"
      },
      "execution_count": null,
      "outputs": [
        {
          "output_type": "stream",
          "name": "stdout",
          "text": [
            "False\n",
            "True\n",
            "True\n"
          ]
        }
      ]
    },
    {
      "cell_type": "markdown",
      "source": [
        "Crear una función para encontrar el último número de día de un mes y un año."
      ],
      "metadata": {
        "id": "-CFy1AhNFHrI"
      }
    },
    {
      "cell_type": "code",
      "source": [
        "import calendar\n",
        "\n",
        "def ultimo_numero_dia(mes, agnio):\n",
        "    return calendar.monthrange(agnio, mes)\n",
        "\n",
        "print(ultimo_numero_dia(2, 2020)[1])\n",
        "print(ultimo_numero_dia(12, 2020)[1])"
      ],
      "metadata": {
        "colab": {
          "base_uri": "https://localhost:8080/"
        },
        "id": "VWCZ7pmEFIOl",
        "outputId": "22a6f736-6a3b-4c44-a2ca-a465cd98a426"
      },
      "execution_count": null,
      "outputs": [
        {
          "output_type": "stream",
          "name": "stdout",
          "text": [
            "29\n",
            "31\n"
          ]
        }
      ]
    },
    {
      "cell_type": "markdown",
      "source": [
        "Crear función para obtener la cantidad de días de un mes de un año específico."
      ],
      "metadata": {
        "id": "zuCnOElGFXlJ"
      }
    },
    {
      "cell_type": "code",
      "source": [
        "from calendar import monthrange\n",
        "\n",
        "def cantidad_dias_mes(mes, agnio):\n",
        "    return monthrange(agnio, mes)[1]\n",
        "\n",
        "print(cantidad_dias_mes(2, 2020))\n",
        "print(cantidad_dias_mes(2, 2021))"
      ],
      "metadata": {
        "colab": {
          "base_uri": "https://localhost:8080/"
        },
        "id": "4C2tLpzCFfxi",
        "outputId": "3f2f9d4d-69dd-47aa-a4c5-63f0d8f4a4c4"
      },
      "execution_count": null,
      "outputs": [
        {
          "output_type": "stream",
          "name": "stdout",
          "text": [
            "29\n",
            "28\n"
          ]
        }
      ]
    },
    {
      "cell_type": "markdown",
      "source": [
        "Crear una función para sumar un mes a una fecha."
      ],
      "metadata": {
        "id": "0CQJnUGBFpCK"
      }
    },
    {
      "cell_type": "code",
      "source": [
        "from datetime import date, timedelta\n",
        "from calendar import monthrange\n",
        "\n",
        "def cantidad_dias_mes(mes, agnio):\n",
        "    \"\"\"\n",
        "    Obtiene la cantidad de días de un mes y año específicos.\n",
        "    \"\"\"\n",
        "    return monthrange(agnio, mes)[1]\n",
        "\n",
        "def sumar_mes_fecha(fecha):\n",
        "    dias_mes = cantidad_dias_mes(fecha.month, fecha.year)\n",
        "    resultado = fecha + timedelta(days=dias_mes)\n",
        "    return resultado\n",
        "\n",
        "fecha = date(2020, 12, 31)\n",
        "resultado = sumar_mes_fecha(fecha)\n",
        "print(resultado)"
      ],
      "metadata": {
        "colab": {
          "base_uri": "https://localhost:8080/"
        },
        "id": "pfQ_Sod9FpsR",
        "outputId": "40b4d4b7-a348-433e-f26e-cb07452ef148"
      },
      "execution_count": null,
      "outputs": [
        {
          "output_type": "stream",
          "name": "stdout",
          "text": [
            "2021-01-31\n"
          ]
        }
      ]
    },
    {
      "cell_type": "markdown",
      "source": [
        "Contar la cantidad de lunes que son el primer día de cada mes en un rango de años."
      ],
      "metadata": {
        "id": "nDYpPJTHGJsp"
      }
    },
    {
      "cell_type": "code",
      "source": [
        "# Ejercicio 681: Contar la cantidad de lunes que son el primer día de cada mes en un rango de años.\n",
        "\n",
        "from datetime import datetime\n",
        "\n",
        "def cantidad_lunes_primer_dia_mes(agnio_1, agnio_2):\n",
        "    contador = 0\n",
        "\n",
        "    for a in range(agnio_1, agnio_2 + 1):\n",
        "        for m in range(1, 13):\n",
        "            if datetime(a, m, 1).weekday() == 0:\n",
        "                contador += 1\n",
        "    \n",
        "    return contador\n",
        "\n",
        "agnio_1 = 2018\n",
        "agnio_2 = 2020\n",
        "resultado = cantidad_lunes_primer_dia_mes(agnio_1, agnio_2)\n",
        "print(resultado)\n",
        "\n",
        "print(cantidad_lunes_primer_dia_mes(2020, 2020))"
      ],
      "metadata": {
        "colab": {
          "base_uri": "https://localhost:8080/"
        },
        "id": "4dX0mf01GKlD",
        "outputId": "58ba1e24-1261-44e2-f64b-8f6473714788"
      },
      "execution_count": null,
      "outputs": [
        {
          "output_type": "stream",
          "name": "stdout",
          "text": [
            "5\n",
            "1\n"
          ]
        }
      ]
    },
    {
      "cell_type": "markdown",
      "source": [
        "Crear función para imprimir un texto específico cada 3 segundos."
      ],
      "metadata": {
        "id": "fvtojb5HGQvT"
      }
    },
    {
      "cell_type": "code",
      "source": [
        "import time\n",
        "\n",
        "def imprimir_texto(texto, n, intervalo=3):\n",
        "    for _ in range(n):\n",
        "        print(texto)\n",
        "        time.sleep(intervalo)\n",
        "\n",
        "imprimir_texto('¡Python es tremendo!', 5)"
      ],
      "metadata": {
        "colab": {
          "base_uri": "https://localhost:8080/"
        },
        "id": "flRSdZyrGRkS",
        "outputId": "9adca1ac-7b0f-4d81-bf3e-0d53546d806a"
      },
      "execution_count": null,
      "outputs": [
        {
          "output_type": "stream",
          "name": "stdout",
          "text": [
            "¡Python es tremendo!\n",
            "¡Python es tremendo!\n",
            "¡Python es tremendo!\n",
            "¡Python es tremendo!\n",
            "¡Python es tremendo!\n"
          ]
        }
      ]
    },
    {
      "cell_type": "markdown",
      "source": [
        "Sumar seis (6) meses a una fecha específica usando timedelta."
      ],
      "metadata": {
        "id": "lHmmGWSXGckt"
      }
    },
    {
      "cell_type": "code",
      "source": [
        "\n",
        "from datetime import date, timedelta\n",
        "\n",
        "fecha_actual = date.today()\n",
        "seis_meses_despues = fecha_actual + timedelta(365/2)\n",
        "\n",
        "print('Fecha actual:', fecha_actual)\n",
        "print('Seis meses después:', seis_meses_despues)# Ejercicio 683: Sumar seis (6) meses a una fecha específica usando timedelta.\n",
        "\n",
        "from datetime import date, timedelta\n",
        "\n",
        "fecha_actual = date.today()\n",
        "seis_meses_despues = fecha_actual + timedelta(365/2)\n",
        "\n",
        "print('Fecha actual:', fecha_actual)\n",
        "print('Seis meses después:', seis_meses_despues)"
      ],
      "metadata": {
        "colab": {
          "base_uri": "https://localhost:8080/"
        },
        "id": "o34aSuq3GdVr",
        "outputId": "4eee2b7b-0157-4253-af55-4fe2a04074af"
      },
      "execution_count": null,
      "outputs": [
        {
          "output_type": "stream",
          "name": "stdout",
          "text": [
            "Fecha actual: 2021-12-20\n",
            "Seis meses después: 2022-06-20\n",
            "Fecha actual: 2021-12-20\n",
            "Seis meses después: 2022-06-20\n"
          ]
        }
      ]
    },
    {
      "cell_type": "markdown",
      "source": [
        " Generar hasta doce (12) fechas diferenciadas cada una por 15 días."
      ],
      "metadata": {
        "id": "dnSv9Qj5G0ev"
      }
    },
    {
      "cell_type": "code",
      "source": [
        "# Ejercicio 684: Generar hasta doce (12) fechas diferenciadas cada una por 15 días.\n",
        "\n",
        "from datetime import date, timedelta\n",
        "\n",
        "def generar_fechas(fecha_inicio, cantidad=12, dias_diferencia=15):\n",
        "    fechas = []\n",
        "    fechas.append(fecha_inicio)\n",
        "\n",
        "    for _ in range(cantidad):\n",
        "        fecha_inicio = fecha_inicio + timedelta(days=dias_diferencia)\n",
        "        fechas.append(fecha_inicio)\n",
        "\n",
        "    return fechas\n",
        "\n",
        "fecha = date.today()\n",
        "resultado = generar_fechas(fecha)\n",
        "\n",
        "print('Fecha actual:', fecha)\n",
        "\n",
        "for f in resultado:\n",
        "    print(f)"
      ],
      "metadata": {
        "colab": {
          "base_uri": "https://localhost:8080/"
        },
        "id": "DQwjHR7EG2NZ",
        "outputId": "7beb7d30-9c1d-45ab-ee40-376229a1c3bd"
      },
      "execution_count": null,
      "outputs": [
        {
          "output_type": "stream",
          "name": "stdout",
          "text": [
            "Fecha actual: 2021-12-20\n",
            "2021-12-20\n",
            "2022-01-04\n",
            "2022-01-19\n",
            "2022-02-03\n",
            "2022-02-18\n",
            "2022-03-05\n",
            "2022-03-20\n",
            "2022-04-04\n",
            "2022-04-19\n",
            "2022-05-04\n",
            "2022-05-19\n",
            "2022-06-03\n",
            "2022-06-18\n"
          ]
        }
      ]
    },
    {
      "cell_type": "markdown",
      "source": [
        "Generar las fechas de hace 30 días y después de 30 días a partir de la actual."
      ],
      "metadata": {
        "id": "UxyXx5yvHBM_"
      }
    },
    {
      "cell_type": "code",
      "source": [
        "\n",
        "from datetime import date, timedelta\n",
        "\n",
        "def generar_fechas_30_dias():\n",
        "    fecha_actual = date.today()\n",
        "    hace_30_dias = fecha_actual - timedelta(days=30)\n",
        "    despues_30_dias = fecha_actual + timedelta(days=30)\n",
        "\n",
        "    return hace_30_dias, fecha_actual, despues_30_dias\n",
        "\n",
        "\n",
        "resultado = generar_fechas_30_dias()\n",
        "print(resultado)"
      ],
      "metadata": {
        "colab": {
          "base_uri": "https://localhost:8080/"
        },
        "id": "F7bRV8PLHCCw",
        "outputId": "3de67790-4537-468f-eb7b-8645c5cf9a7a"
      },
      "execution_count": null,
      "outputs": [
        {
          "output_type": "stream",
          "name": "stdout",
          "text": [
            "(datetime.date(2021, 11, 20), datetime.date(2021, 12, 20), datetime.date(2022, 1, 19))\n"
          ]
        }
      ]
    },
    {
      "cell_type": "markdown",
      "source": [
        "Generar la fecha UTC (Universal Time Coordinated) con timezone.utc."
      ],
      "metadata": {
        "id": "9vhqVkY8HJM4"
      }
    },
    {
      "cell_type": "code",
      "source": [
        "\n",
        "from datetime import datetime, timezone\n",
        "\n",
        "fecha_utc = datetime.now(timezone.utc)\n",
        "\n",
        "print(fecha_utc.strftime('%Y-%m-%d %H:%M:%S%z'))"
      ],
      "metadata": {
        "colab": {
          "base_uri": "https://localhost:8080/"
        },
        "id": "2c0K7K8YHJ_P",
        "outputId": "b1fe1933-01f0-4e2d-9458-bbd05b080113"
      },
      "execution_count": null,
      "outputs": [
        {
          "output_type": "stream",
          "name": "stdout",
          "text": [
            "2021-12-20 13:51:48+0000\n"
          ]
        }
      ]
    },
    {
      "cell_type": "markdown",
      "source": [
        "Convertir un objeto fecha (datetime) a una marca de tiempo (timestamp)."
      ],
      "metadata": {
        "id": "85tiTC2IHWX2"
      }
    },
    {
      "cell_type": "code",
      "source": [
        "import datetime\n",
        "import time\n",
        "\n",
        "def convertir_fecha_timestamp(fecha):\n",
        "    fecha = fecha.timetuple()\n",
        "    resultado = time.mktime(fecha)\n",
        "\n",
        "    return resultado\n",
        "\n",
        "ahora = datetime.datetime.now()\n",
        "print(convertir_fecha_timestamp(ahora))"
      ],
      "metadata": {
        "colab": {
          "base_uri": "https://localhost:8080/"
        },
        "id": "VAARQe0NHXRA",
        "outputId": "6fa28181-c1b5-446e-e203-76ce8b083a5f"
      },
      "execution_count": null,
      "outputs": [
        {
          "output_type": "stream",
          "name": "stdout",
          "text": [
            "1640008358.0\n"
          ]
        }
      ]
    },
    {
      "cell_type": "markdown",
      "source": [
        " Convertir una cadena de caracteres de una fecha a una marca de tiempo (timestamp)."
      ],
      "metadata": {
        "id": "8an8upuSHfav"
      }
    },
    {
      "cell_type": "code",
      "source": [
        "# Ejercicio 688: Convertir una cadena de caracteres de una fecha a una marca de tiempo (timestamp).\n",
        "\n",
        "import datetime\n",
        "import time\n",
        "\n",
        "fecha_cadena = '1972/06/23'\n",
        "\n",
        "resultado = time.mktime(datetime.datetime.strptime(fecha_cadena, '%Y/%m/%d').timetuple())\n",
        "\n",
        "print(resultado)"
      ],
      "metadata": {
        "colab": {
          "base_uri": "https://localhost:8080/"
        },
        "id": "kf_Uw7gNHxpN",
        "outputId": "91c482ca-87d0-4d26-f6f2-fd71d8e84077"
      },
      "execution_count": null,
      "outputs": [
        {
          "output_type": "stream",
          "name": "stdout",
          "text": [
            "78105600.0\n"
          ]
        }
      ]
    },
    {
      "cell_type": "markdown",
      "source": [
        "Calcular la diferencia en días entre dos objetos fecha (date)."
      ],
      "metadata": {
        "id": "4SbdmUnoIAfH"
      }
    },
    {
      "cell_type": "code",
      "source": [
        "\n",
        "from datetime import date\n",
        "\n",
        "def diferencia_dias(fecha_1, fecha_2):\n",
        "    return (fecha_2 - fecha_1).days\n",
        "\n",
        "\n",
        "ahora = date.today()\n",
        "nacimiento_turin = date(1912, 6, 23)\n",
        "\n",
        "resultado = diferencia_dias(nacimiento_turin, ahora)\n",
        "print(resultado)\n",
        "\n",
        "resultado = diferencia_dias(ahora, nacimiento_turin)\n",
        "print(resultado)"
      ],
      "metadata": {
        "colab": {
          "base_uri": "https://localhost:8080/"
        },
        "id": "r94yLLHOIBJI",
        "outputId": "c1613a6f-ab04-46cd-8580-b33cef3cdcd8"
      },
      "execution_count": null,
      "outputs": [
        {
          "output_type": "stream",
          "name": "stdout",
          "text": [
            "39992\n",
            "-39992\n"
          ]
        }
      ]
    },
    {
      "cell_type": "markdown",
      "source": [
        "Usar time.ctime() para generar la fecha y hora en un formato legible"
      ],
      "metadata": {
        "id": "vpmrzeGjIMp_"
      }
    },
    {
      "cell_type": "code",
      "source": [
        "import time\n",
        "\n",
        "fecha_hora = time.ctime()\n",
        "\n",
        "print('Fecha y hora actuales:', fecha_hora)"
      ],
      "metadata": {
        "colab": {
          "base_uri": "https://localhost:8080/"
        },
        "id": "gM7osT_uITqt",
        "outputId": "ab15ef3c-dabf-4ca5-f31e-f32ae69c8e1d"
      },
      "execution_count": null,
      "outputs": [
        {
          "output_type": "stream",
          "name": "stdout",
          "text": [
            "Fecha y hora actuales: Mon Dec 20 13:56:44 2021\n"
          ]
        }
      ]
    },
    {
      "cell_type": "markdown",
      "source": [
        "Convertir un objeto fecha (datetime) a una marca de tiempo (timestamp)."
      ],
      "metadata": {
        "id": "pawZLIH5IcSO"
      }
    },
    {
      "cell_type": "code",
      "source": [
        "import datetime\n",
        "import time\n",
        "\n",
        "fecha = datetime.datetime(2013, 12, 27)\n",
        "print(type(fecha))\n",
        "print('Fecha y hora:', fecha)\n",
        "\n",
        "marca_tiempo = time.mktime(fecha.timetuple())\n",
        "print('Marca de tiempo:', marca_tiempo)"
      ],
      "metadata": {
        "colab": {
          "base_uri": "https://localhost:8080/"
        },
        "id": "6h1hepZCIdc2",
        "outputId": "6d276cbd-cca1-4a52-c6b1-198a5860cff5"
      },
      "execution_count": null,
      "outputs": [
        {
          "output_type": "stream",
          "name": "stdout",
          "text": [
            "<class 'datetime.datetime'>\n",
            "Fecha y hora: 2013-12-27 00:00:00\n",
            "Marca de tiempo: 1388102400.0\n"
          ]
        }
      ]
    },
    {
      "cell_type": "markdown",
      "source": [
        "Calcular diferencia en segundos entre dos objetos fecha."
      ],
      "metadata": {
        "id": "JwBqYNSwJCsf"
      }
    },
    {
      "cell_type": "code",
      "source": [
        "\n",
        "from datetime import datetime, time\n",
        "\n",
        "def diferencia_segundos_fechas(fecha_1, fecha_2):\n",
        "    diferencia = fecha_2 - fecha_1\n",
        "    resultado = diferencia.days * 24 * 3600 + diferencia.seconds\n",
        "    return resultado\n",
        "\n",
        "fecha_1 = datetime(2019, 1, 1)\n",
        "fecha_2 = datetime.now()\n",
        "\n",
        "print('Fecha actual:', fecha_2)\n",
        "\n",
        "print(diferencia_segundos_fechas(fecha_1, fecha_2))"
      ],
      "metadata": {
        "colab": {
          "base_uri": "https://localhost:8080/"
        },
        "id": "9zAVg7rIJDce",
        "outputId": "8687e151-2dc3-417d-c127-39a5575ee84c"
      },
      "execution_count": null,
      "outputs": [
        {
          "output_type": "stream",
          "name": "stdout",
          "text": [
            "Fecha actual: 2021-12-20 13:59:57.960157\n",
            "93707997\n"
          ]
        }
      ]
    },
    {
      "cell_type": "markdown",
      "source": [
        "Convertir diferencia en segundos de dos fechas en dias, horas, minutos."
      ],
      "metadata": {
        "id": "wuWWpAl0JIsN"
      }
    },
    {
      "cell_type": "code",
      "source": [
        "from datetime import datetime\n",
        "\n",
        "def diferencia_segundos_fechas(fecha_1, fecha_2):\n",
        "    diferencia = fecha_2 - fecha_1\n",
        "    resultado = diferencia.days * 24 * 3600 + diferencia.seconds\n",
        "    return resultado\n",
        "\n",
        "def dias_horas_minutos_segundos(segundos):\n",
        "    minutos, segundos = divmod(segundos, 60)\n",
        "    horas, minutos = divmod(minutos, 60)\n",
        "    dias, horas = divmod(horas, 24)\n",
        "\n",
        "    return dias, horas, minutos, segundos\n",
        "\n",
        "fecha_1 = datetime(2019, 1, 1)\n",
        "fecha_2 = datetime.now()\n",
        "print('Fecha actual:', fecha_2)\n",
        "segundos = diferencia_segundos_fechas(fecha_1, fecha_2)\n",
        "print(segundos)\n",
        "\n",
        "print()\n",
        "\n",
        "resultado = dias_horas_minutos_segundos(segundos)\n",
        "print(resultado)"
      ],
      "metadata": {
        "colab": {
          "base_uri": "https://localhost:8080/"
        },
        "id": "OdDDtSGzJJTm",
        "outputId": "d8540cbd-37e2-4f88-ee55-9bd09d5dea8c"
      },
      "execution_count": null,
      "outputs": [
        {
          "output_type": "stream",
          "name": "stdout",
          "text": [
            "Fecha actual: 2021-12-20 18:24:29.821159\n",
            "93723869\n",
            "\n",
            "(1084, 18, 24, 29)\n"
          ]
        }
      ]
    },
    {
      "cell_type": "markdown",
      "source": [
        "Crear función para obtener la última fecha de modificación de un archivo."
      ],
      "metadata": {
        "id": "gC9lOykUJSvX"
      }
    },
    {
      "cell_type": "code",
      "source": [
        "from datetime import datetime\n",
        "import time\n",
        "import os\n",
        "\n",
        "def ultima_fecha_modificacion(ruta_archivo):\n",
        "    estado = os.stat(ruta_archivo)\n",
        "    fecha = time.localtime(estado.st_mtime)\n",
        "    fecha = datetime(fecha[0], fecha[1], fecha[2], fecha[3], fecha[4], fecha[5])\n",
        "    return fecha\n",
        "\n",
        "nombre_archivo = '/content/sample_data/mnist_train_small.csv'\n",
        "resultado = ultima_fecha_modificacion(nombre_archivo)\n",
        "print(resultado)"
      ],
      "metadata": {
        "id": "KB9sKDiVJTn3",
        "colab": {
          "base_uri": "https://localhost:8080/"
        },
        "outputId": "db23fe84-cb31-4f93-99f4-39478d44ad42"
      },
      "execution_count": null,
      "outputs": [
        {
          "output_type": "stream",
          "name": "stdout",
          "text": [
            "2021-12-03 14:33:52\n"
          ]
        }
      ]
    },
    {
      "cell_type": "markdown",
      "source": [
        "Calcular la edad en años a partir de la fecha de nacimiento."
      ],
      "metadata": {
        "id": "lzzpUUlFJZss"
      }
    },
    {
      "cell_type": "code",
      "source": [
        "from datetime import date\n",
        "\n",
        "def calcular_edad_agnios(fecha_nacimiento):\n",
        "    fecha_actual = date.today()\n",
        "    resultado = fecha_actual.year - fecha_nacimiento.year\n",
        "    resultado -= ((fecha_actual.month, fecha_actual.day) < (fecha_nacimiento.month, fecha_nacimiento.day))\n",
        "    return resultado\n",
        "\n",
        "fecha_nacimiento_turing = date(1912, 6, 23)\n",
        "edad = calcular_edad_agnios(fecha_nacimiento_turing)\n",
        "\n",
        "print(f'La edad de Turin es de {edad} años.')"
      ],
      "metadata": {
        "colab": {
          "base_uri": "https://localhost:8080/"
        },
        "id": "kGTcQHy6Jfcm",
        "outputId": "b8afd6a4-c6b5-4285-ddaf-eb7e5529cfed"
      },
      "execution_count": null,
      "outputs": [
        {
          "output_type": "stream",
          "name": "stdout",
          "text": [
            "La edad de Turin es de 109 años.\n"
          ]
        }
      ]
    },
    {
      "cell_type": "markdown",
      "source": [
        " Generar representación en cadena de caracteres de una fecha (datetime)."
      ],
      "metadata": {
        "id": "TlxA4Eb8Jp_W"
      }
    },
    {
      "cell_type": "code",
      "source": [
        "from datetime import datetime\n",
        "\n",
        "ahora = datetime.now()\n",
        "print(type(ahora))\n",
        "\n",
        "ahora_cadena = ahora.strftime('%Y-%m-%d %H:%M:%S')\n",
        "print(type(ahora_cadena))\n",
        "print(ahora_cadena)"
      ],
      "metadata": {
        "colab": {
          "base_uri": "https://localhost:8080/"
        },
        "id": "unAcjGv4JtdA",
        "outputId": "6f1a1974-4422-4f71-dfb8-07e1bb6ae88c"
      },
      "execution_count": null,
      "outputs": [
        {
          "output_type": "stream",
          "name": "stdout",
          "text": [
            "<class 'datetime.datetime'>\n",
            "<class 'str'>\n",
            "2021-12-20 14:02:55\n"
          ]
        }
      ]
    },
    {
      "cell_type": "markdown",
      "source": [
        " Generar calendario para un mes específico empezando desde el lunes."
      ],
      "metadata": {
        "id": "lY_wILyQJ3X3"
      }
    },
    {
      "cell_type": "code",
      "source": [
        "import calendar\n",
        "\n",
        "calendario = calendar.TextCalendar(calendar.MONDAY)\n",
        "\n",
        "print('Primer mes del año 2020:')\n",
        "calendario.prmonth(2020, 1)"
      ],
      "metadata": {
        "colab": {
          "base_uri": "https://localhost:8080/"
        },
        "id": "b14PnZwHJ3-t",
        "outputId": "0caf34dd-3ac5-4408-945d-9baba9c40bd1"
      },
      "execution_count": null,
      "outputs": [
        {
          "output_type": "stream",
          "name": "stdout",
          "text": [
            "Primer mes del año 2020:\n",
            "    January 2020\n",
            "Mo Tu We Th Fr Sa Su\n",
            "       1  2  3  4  5\n",
            " 6  7  8  9 10 11 12\n",
            "13 14 15 16 17 18 19\n",
            "20 21 22 23 24 25 26\n",
            "27 28 29 30 31\n"
          ]
        }
      ]
    },
    {
      "cell_type": "markdown",
      "source": [
        "### Generar el calendario completo (12 meses) para un año particular."
      ],
      "metadata": {
        "id": "wRxdCvYSJ_-1"
      }
    },
    {
      "cell_type": "code",
      "source": [
        "import calendar\n",
        "\n",
        "calendario = calendar.TextCalendar(calendar.MONDAY)\n",
        "\n",
        "print(calendario.formatyear(2021, 1, 2, 15, 4))"
      ],
      "metadata": {
        "colab": {
          "base_uri": "https://localhost:8080/"
        },
        "id": "NOEZ9TsjKAvg",
        "outputId": "78930dd8-3c76-4a40-d00b-3a1c1ee6f1de"
      },
      "execution_count": null,
      "outputs": [
        {
          "output_type": "stream",
          "name": "stdout",
          "text": [
            "                                                             2021\n",
            "\n",
            "\n",
            "\n",
            "      January                            February                            March                              April\n",
            "\n",
            "Mo Tu We Th Fr Sa Su               Mo Tu We Th Fr Sa Su               Mo Tu We Th Fr Sa Su               Mo Tu We Th Fr Sa Su\n",
            "\n",
            "             1  2  3                1  2  3  4  5  6  7                1  2  3  4  5  6  7                         1  2  3  4\n",
            "\n",
            " 4  5  6  7  8  9 10                8  9 10 11 12 13 14                8  9 10 11 12 13 14                5  6  7  8  9 10 11\n",
            "\n",
            "11 12 13 14 15 16 17               15 16 17 18 19 20 21               15 16 17 18 19 20 21               12 13 14 15 16 17 18\n",
            "\n",
            "18 19 20 21 22 23 24               22 23 24 25 26 27 28               22 23 24 25 26 27 28               19 20 21 22 23 24 25\n",
            "\n",
            "25 26 27 28 29 30 31                                                  29 30 31                           26 27 28 29 30\n",
            "\n",
            "\n",
            "\n",
            "        May                                June                               July                              August\n",
            "\n",
            "Mo Tu We Th Fr Sa Su               Mo Tu We Th Fr Sa Su               Mo Tu We Th Fr Sa Su               Mo Tu We Th Fr Sa Su\n",
            "\n",
            "                1  2                   1  2  3  4  5  6                         1  2  3  4                                  1\n",
            "\n",
            " 3  4  5  6  7  8  9                7  8  9 10 11 12 13                5  6  7  8  9 10 11                2  3  4  5  6  7  8\n",
            "\n",
            "10 11 12 13 14 15 16               14 15 16 17 18 19 20               12 13 14 15 16 17 18                9 10 11 12 13 14 15\n",
            "\n",
            "17 18 19 20 21 22 23               21 22 23 24 25 26 27               19 20 21 22 23 24 25               16 17 18 19 20 21 22\n",
            "\n",
            "24 25 26 27 28 29 30               28 29 30                           26 27 28 29 30 31                  23 24 25 26 27 28 29\n",
            "\n",
            "31                                                                                                       30 31\n",
            "\n",
            "\n",
            "\n",
            "     September                           October                            November                           December\n",
            "\n",
            "Mo Tu We Th Fr Sa Su               Mo Tu We Th Fr Sa Su               Mo Tu We Th Fr Sa Su               Mo Tu We Th Fr Sa Su\n",
            "\n",
            "       1  2  3  4  5                            1  2  3                1  2  3  4  5  6  7                      1  2  3  4  5\n",
            "\n",
            " 6  7  8  9 10 11 12                4  5  6  7  8  9 10                8  9 10 11 12 13 14                6  7  8  9 10 11 12\n",
            "\n",
            "13 14 15 16 17 18 19               11 12 13 14 15 16 17               15 16 17 18 19 20 21               13 14 15 16 17 18 19\n",
            "\n",
            "20 21 22 23 24 25 26               18 19 20 21 22 23 24               22 23 24 25 26 27 28               20 21 22 23 24 25 26\n",
            "\n",
            "27 28 29 30                        25 26 27 28 29 30 31               29 30                              27 28 29 30 31\n",
            "\n",
            "\n"
          ]
        }
      ]
    },
    {
      "cell_type": "markdown",
      "source": [
        "### Generar el calendario de un año y mes específicos en formato HTML."
      ],
      "metadata": {
        "id": "WmcY7i0uKY0u"
      }
    },
    {
      "cell_type": "code",
      "source": [
        "\n",
        "import calendar\n",
        "\n",
        "calendario_html = calendar.HTMLCalendar(calendar.MONDAY)\n",
        "\n",
        "print(calendario_html.formatmonth(2020, 2))"
      ],
      "metadata": {
        "colab": {
          "base_uri": "https://localhost:8080/"
        },
        "id": "y3C_COv3KeGM",
        "outputId": "a428a82b-9ee9-4ae1-8f0e-2e94204a37c3"
      },
      "execution_count": null,
      "outputs": [
        {
          "output_type": "stream",
          "name": "stdout",
          "text": [
            "<table border=\"0\" cellpadding=\"0\" cellspacing=\"0\" class=\"month\">\n",
            "<tr><th colspan=\"7\" class=\"month\">February 2020</th></tr>\n",
            "<tr><th class=\"mon\">Mon</th><th class=\"tue\">Tue</th><th class=\"wed\">Wed</th><th class=\"thu\">Thu</th><th class=\"fri\">Fri</th><th class=\"sat\">Sat</th><th class=\"sun\">Sun</th></tr>\n",
            "<tr><td class=\"noday\">&nbsp;</td><td class=\"noday\">&nbsp;</td><td class=\"noday\">&nbsp;</td><td class=\"noday\">&nbsp;</td><td class=\"noday\">&nbsp;</td><td class=\"sat\">1</td><td class=\"sun\">2</td></tr>\n",
            "<tr><td class=\"mon\">3</td><td class=\"tue\">4</td><td class=\"wed\">5</td><td class=\"thu\">6</td><td class=\"fri\">7</td><td class=\"sat\">8</td><td class=\"sun\">9</td></tr>\n",
            "<tr><td class=\"mon\">10</td><td class=\"tue\">11</td><td class=\"wed\">12</td><td class=\"thu\">13</td><td class=\"fri\">14</td><td class=\"sat\">15</td><td class=\"sun\">16</td></tr>\n",
            "<tr><td class=\"mon\">17</td><td class=\"tue\">18</td><td class=\"wed\">19</td><td class=\"thu\">20</td><td class=\"fri\">21</td><td class=\"sat\">22</td><td class=\"sun\">23</td></tr>\n",
            "<tr><td class=\"mon\">24</td><td class=\"tue\">25</td><td class=\"wed\">26</td><td class=\"thu\">27</td><td class=\"fri\">28</td><td class=\"sat\">29</td><td class=\"noday\">&nbsp;</td></tr>\n",
            "</table>\n",
            "\n"
          ]
        }
      ]
    },
    {
      "cell_type": "markdown",
      "source": [
        "### Convertir una cadena de caracteres de fecha en un objeto datetime."
      ],
      "metadata": {
        "id": "Waw3T78tKl3l"
      }
    },
    {
      "cell_type": "code",
      "source": [
        "from datetime import datetime\n",
        "\n",
        "cadena_fecha = 'Jun 23 1912 3:31AM'\n",
        "\n",
        "fecha = datetime.strptime(cadena_fecha, '%b %d %Y %I:%M%p')\n",
        "\n",
        "print('Tipo de dato de la variable fecha:', type(fecha))\n",
        "print(fecha)"
      ],
      "metadata": {
        "colab": {
          "base_uri": "https://localhost:8080/"
        },
        "id": "-l4sW49XKmS0",
        "outputId": "4cbf38a8-ef2a-4e41-b8db-5e89f62ced0c"
      },
      "execution_count": null,
      "outputs": [
        {
          "output_type": "stream",
          "name": "stdout",
          "text": [
            "Tipo de dato de la variable fecha: <class 'datetime.datetime'>\n",
            "1912-06-23 03:31:00\n"
          ]
        }
      ]
    },
    {
      "cell_type": "markdown",
      "source": [
        "### Crear una función para generar una lista de fechas en un rango específico."
      ],
      "metadata": {
        "id": "5mehUdDFKo99"
      }
    },
    {
      "cell_type": "code",
      "source": [
        "from datetime import date, timedelta\n",
        "\n",
        "def generar_rango_fechas(fecha_1, fecha_2):\n",
        "    fechas = []\n",
        "    dias = (fecha_2 - fecha_1).days + 1\n",
        "\n",
        "    for i in range(dias):\n",
        "        fechas.append(fecha_1 + timedelta(i))\n",
        "    \n",
        "    return fechas\n",
        "\n",
        "inicio = date(2020, 2, 1)\n",
        "fin = date(2020, 2, 15)\n",
        "\n",
        "resultado = generar_rango_fechas(inicio, fin)\n",
        "\n",
        "for f in resultado:\n",
        "    print(f)"
      ],
      "metadata": {
        "colab": {
          "base_uri": "https://localhost:8080/"
        },
        "id": "vhADgJIJKtMW",
        "outputId": "3d9c336b-1b7f-4638-b824-e1c211fe63ac"
      },
      "execution_count": null,
      "outputs": [
        {
          "output_type": "stream",
          "name": "stdout",
          "text": [
            "2020-02-01\n",
            "2020-02-02\n",
            "2020-02-03\n",
            "2020-02-04\n",
            "2020-02-05\n",
            "2020-02-06\n",
            "2020-02-07\n",
            "2020-02-08\n",
            "2020-02-09\n",
            "2020-02-10\n",
            "2020-02-11\n",
            "2020-02-12\n",
            "2020-02-13\n",
            "2020-02-14\n",
            "2020-02-15\n"
          ]
        }
      ]
    },
    {
      "cell_type": "markdown",
      "source": [
        "Generar una marca de tiempo (timestamp) en el formato RFC 3339."
      ],
      "metadata": {
        "id": "MGFUykikK00F"
      }
    },
    {
      "cell_type": "code",
      "source": [
        "from datetime import datetime, timezone\n",
        "\n",
        "rfc_3339 = datetime.now(timezone.utc).astimezone()\n",
        "\n",
        "print('Marca de tiempo RFC 3339:', rfc_3339)"
      ],
      "metadata": {
        "colab": {
          "base_uri": "https://localhost:8080/"
        },
        "id": "-iMc_U2tK1md",
        "outputId": "54f998a3-4c5d-48d0-d5b1-d74ab8f08988"
      },
      "execution_count": null,
      "outputs": [
        {
          "output_type": "stream",
          "name": "stdout",
          "text": [
            "Marca de tiempo RFC 3339: 2021-12-20 14:07:47.313621+00:00\n"
          ]
        }
      ]
    },
    {
      "cell_type": "markdown",
      "source": [
        "Obtener la hora mínima y máxima con las propiedades min y max de time."
      ],
      "metadata": {
        "id": "pbKN2IMPK7lf"
      }
    },
    {
      "cell_type": "code",
      "source": [
        "from datetime import time\n",
        "\n",
        "hora_minima = time.min\n",
        "hora_maxima = time.max\n",
        "\n",
        "print('Hora mínima:', hora_minima)\n",
        "print('Hora máxima:', hora_maxima)"
      ],
      "metadata": {
        "colab": {
          "base_uri": "https://localhost:8080/"
        },
        "id": "l798v7zRK8OV",
        "outputId": "d426bfab-89e3-4ee2-adb4-bc954e70d5c9"
      },
      "execution_count": null,
      "outputs": [
        {
          "output_type": "stream",
          "name": "stdout",
          "text": [
            "Hora mínima: 00:00:00\n",
            "Hora máxima: 23:59:59.999999\n"
          ]
        }
      ]
    }
  ]
}